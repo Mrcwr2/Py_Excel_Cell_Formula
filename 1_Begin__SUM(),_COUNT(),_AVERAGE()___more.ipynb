{
  "nbformat": 4,
  "nbformat_minor": 0,
  "metadata": {
    "colab": {
      "name": "1-Begin_ SUM(), COUNT(), AVERAGE() _ more.ipynb",
      "provenance": [],
      "collapsed_sections": [],
      "include_colab_link": true
    },
    "kernelspec": {
      "name": "python3",
      "display_name": "Python 3"
    }
  },
  "cells": [
    {
      "cell_type": "markdown",
      "metadata": {
        "id": "view-in-github",
        "colab_type": "text"
      },
      "source": [
        "<a href=\"https://colab.research.google.com/github/Mrcwr2/Py_Excel_Cell_Formula/blob/main/1_Begin__SUM()%2C_COUNT()%2C_AVERAGE()___more.ipynb\" target=\"_parent\"><img src=\"https://colab.research.google.com/assets/colab-badge.svg\" alt=\"Open In Colab\"/></a>"
      ]
    },
    {
      "cell_type": "markdown",
      "metadata": {
        "id": "Beh6bUquc8zo"
      },
      "source": [
        "# Calculating SUM, COUNT, AVERAGE, MIN and MAX\n",
        "---"
      ]
    },
    {
      "cell_type": "markdown",
      "metadata": {
        "id": "LgTBj3de6tL6"
      },
      "source": [
        "## **Excel:**\n",
        "\n",
        "    =SUM(CELL: CELL)\n",
        "    =COUNT(CELL: CELL)\n",
        "    =AVERAGE(CELL: CELL)\n",
        "    =MIN(CELL: CELL)\n",
        "    =MAX(CELL: CELL)\n"
      ]
    },
    {
      "cell_type": "markdown",
      "metadata": {
        "id": "r6Ymw58B6_s7"
      },
      "source": [
        "## **Python:**\n",
        "\n",
        "    df['column'].sum()\n",
        "    df['column'].count()\n",
        "    df['column'].mean()\n",
        "    df['column'].min()\n",
        "    df['column'].max()\n",
        "\n",
        "<br>\n",
        "\n",
        "*You can run a calculation on multiple columns by like this:*\n",
        "\n",
        "    df[['column_1', 'column_2', 'column_3']].sum()\n",
        "\n",
        "<br>\n",
        "\n",
        "*You can also run a calculation for every column by running the calculation directly on the dataframe like so:*\n",
        "\n",
        "    df.mean()\n",
        "\n",
        "<br>\n",
        "\n",
        "*You can also apply a calculation across a row by feeding the `axis='columns'` or `axis=1` argument into the calculation parenthesis as follows:*\n",
        "\n",
        "    df[['column_1', 'column_2', 'column_3']].sum(axis='columns')\n",
        "\n",
        "<br>"
      ]
    },
    {
      "cell_type": "markdown",
      "metadata": {
        "id": "3ojzbP4cU--t"
      },
      "source": [
        "### Load required packages and data\n",
        "---"
      ]
    },
    {
      "cell_type": "code",
      "metadata": {
        "id": "tCxMImfIc7JO"
      },
      "source": [
        "# Import required packages\n",
        "import numpy as np\n",
        "import pandas as pd\n",
        "import matplotlib.pyplot as plt\n",
        "import seaborn as sns"
      ],
      "execution_count": 1,
      "outputs": []
    },
    {
      "cell_type": "code",
      "metadata": {
        "id": "bG0iU5lFr521"
      },
      "source": [
        "# Save Github location paths to a variable\n",
        "failed_bank_path = 'https://github.com/The-Calculated-Life/python_analysis_for_excel/blob/main/data/failed_banks.xlsx?raw=true'\n",
        "bx_ratings_path = 'https://raw.githubusercontent.com/The-Calculated-Life/python_analysis_for_excel/main/data/bx_ratings.csv'\n",
        "\n",
        "# Read excel and CSV files\n",
        "bank_detail = pd.read_excel(failed_bank_path, sheet_name='detail')\n",
        "bx_ratings = pd.read_csv(bx_ratings_path)"
      ],
      "execution_count": 2,
      "outputs": []
    },
    {
      "cell_type": "markdown",
      "metadata": {
        "id": "DNODTQ2ihpBC"
      },
      "source": [
        "<br><br>\n",
        "\n",
        "### Perform calculations on columns in `bank_detail` dataframe\n",
        "---"
      ]
    },
    {
      "cell_type": "code",
      "metadata": {
        "id": "iu1wotPCshgt",
        "colab": {
          "base_uri": "https://localhost:8080/",
          "height": 204
        },
        "outputId": "9a9aa741-1783-4d21-8cc5-350b35ad0106"
      },
      "source": [
        "# View \"bank_detail\" dataframe\n",
        "bank_detail.head()"
      ],
      "execution_count": 3,
      "outputs": [
        {
          "output_type": "execute_result",
          "data": {
            "text/html": [
              "<div>\n",
              "<style scoped>\n",
              "    .dataframe tbody tr th:only-of-type {\n",
              "        vertical-align: middle;\n",
              "    }\n",
              "\n",
              "    .dataframe tbody tr th {\n",
              "        vertical-align: top;\n",
              "    }\n",
              "\n",
              "    .dataframe thead th {\n",
              "        text-align: right;\n",
              "    }\n",
              "</style>\n",
              "<table border=\"1\" class=\"dataframe\">\n",
              "  <thead>\n",
              "    <tr style=\"text-align: right;\">\n",
              "      <th></th>\n",
              "      <th>CERT</th>\n",
              "      <th>FIN</th>\n",
              "      <th>CHARTER</th>\n",
              "      <th>ESTIMATED LOSS</th>\n",
              "      <th>ASSETS</th>\n",
              "      <th>DEPOSITS</th>\n",
              "      <th>RESOLUTION</th>\n",
              "    </tr>\n",
              "  </thead>\n",
              "  <tbody>\n",
              "    <tr>\n",
              "      <th>0</th>\n",
              "      <td>14361</td>\n",
              "      <td>10536.0</td>\n",
              "      <td>COMMERCIAL</td>\n",
              "      <td>NaN</td>\n",
              "      <td>152400</td>\n",
              "      <td>139526</td>\n",
              "      <td>FAILURE</td>\n",
              "    </tr>\n",
              "    <tr>\n",
              "      <th>1</th>\n",
              "      <td>18265</td>\n",
              "      <td>10535.0</td>\n",
              "      <td>COMMERCIAL</td>\n",
              "      <td>NaN</td>\n",
              "      <td>100879</td>\n",
              "      <td>95159</td>\n",
              "      <td>FAILURE</td>\n",
              "    </tr>\n",
              "    <tr>\n",
              "      <th>2</th>\n",
              "      <td>21111</td>\n",
              "      <td>10534.0</td>\n",
              "      <td>COMMERCIAL</td>\n",
              "      <td>2491.0</td>\n",
              "      <td>120574</td>\n",
              "      <td>111234</td>\n",
              "      <td>FAILURE</td>\n",
              "    </tr>\n",
              "    <tr>\n",
              "      <th>3</th>\n",
              "      <td>58112</td>\n",
              "      <td>10532.0</td>\n",
              "      <td>COMMERCIAL</td>\n",
              "      <td>4547.0</td>\n",
              "      <td>29726</td>\n",
              "      <td>26473</td>\n",
              "      <td>FAILURE</td>\n",
              "    </tr>\n",
              "    <tr>\n",
              "      <th>4</th>\n",
              "      <td>58317</td>\n",
              "      <td>10533.0</td>\n",
              "      <td>OTHER</td>\n",
              "      <td>2188.0</td>\n",
              "      <td>27119</td>\n",
              "      <td>26151</td>\n",
              "      <td>FAILURE</td>\n",
              "    </tr>\n",
              "  </tbody>\n",
              "</table>\n",
              "</div>"
            ],
            "text/plain": [
              "    CERT      FIN     CHARTER  ESTIMATED LOSS  ASSETS  DEPOSITS RESOLUTION\n",
              "0  14361  10536.0  COMMERCIAL             NaN  152400    139526    FAILURE\n",
              "1  18265  10535.0  COMMERCIAL             NaN  100879     95159    FAILURE\n",
              "2  21111  10534.0  COMMERCIAL          2491.0  120574    111234    FAILURE\n",
              "3  58112  10532.0  COMMERCIAL          4547.0   29726     26473    FAILURE\n",
              "4  58317  10533.0       OTHER          2188.0   27119     26151    FAILURE"
            ]
          },
          "metadata": {},
          "execution_count": 3
        }
      ]
    },
    {
      "cell_type": "code",
      "metadata": {
        "id": "OvGhNpLNtMCw",
        "colab": {
          "base_uri": "https://localhost:8080/"
        },
        "outputId": "48acf51a-17f4-4b22-8480-c958ce9a421d"
      },
      "source": [
        "# What is the total ESTIMATED LOSS across all failed banks?\n",
        "bank_detail['ESTIMATED LOSS'].sum()"
      ],
      "execution_count": 4,
      "outputs": [
        {
          "output_type": "execute_result",
          "data": {
            "text/plain": [
              "73358809.0"
            ]
          },
          "metadata": {},
          "execution_count": 4
        }
      ]
    },
    {
      "cell_type": "code",
      "metadata": {
        "id": "KlueYXr1tPsw",
        "colab": {
          "base_uri": "https://localhost:8080/"
        },
        "outputId": "5841fe8d-3193-443a-91e7-cb300524a365"
      },
      "source": [
        "# What is the total for every column in the bank_detail dataframe?\n",
        "bank_detail.sum()"
      ],
      "execution_count": 5,
      "outputs": [
        {
          "output_type": "execute_result",
          "data": {
            "text/plain": [
              "CERT                                                       18231125\n",
              "FIN                                                     5.65426e+06\n",
              "CHARTER           COMMERCIALCOMMERCIALCOMMERCIALCOMMERCIALOTHERC...\n",
              "ESTIMATED LOSS                                          7.33588e+07\n",
              "ASSETS                                                   3934131080\n",
              "DEPOSITS                                                 1890987202\n",
              "RESOLUTION        FAILUREFAILUREFAILUREFAILUREFAILUREFAILUREFAIL...\n",
              "dtype: object"
            ]
          },
          "metadata": {},
          "execution_count": 5
        }
      ]
    },
    {
      "cell_type": "code",
      "metadata": {
        "id": "Y2vQOzXlyWDt",
        "colab": {
          "base_uri": "https://localhost:8080/"
        },
        "outputId": "a66afaca-4eba-405e-a9a5-72b9d549c7a3"
      },
      "source": [
        "# What is the total ESTIMATED LOSS and DEPOSITS across all failed banks?\n",
        "bank_detail[['ESTIMATED LOSS' , 'DEPOSITS']].sum()"
      ],
      "execution_count": 6,
      "outputs": [
        {
          "output_type": "execute_result",
          "data": {
            "text/plain": [
              "ESTIMATED LOSS    7.335881e+07\n",
              "DEPOSITS          1.890987e+09\n",
              "dtype: float64"
            ]
          },
          "metadata": {},
          "execution_count": 6
        }
      ]
    },
    {
      "cell_type": "code",
      "metadata": {
        "id": "ZjfcUjxIo_yr",
        "colab": {
          "base_uri": "https://localhost:8080/"
        },
        "outputId": "735b66e6-b35f-41b3-f40a-af641f0f8a30"
      },
      "source": [
        "# What is the total ASSETS and DEPOSITS (ASSETS + DEPOSITS) for each bank in the dataframe?\n",
        "bank_detail[['ASSETS', 'DEPOSITS']].sum(axis='columns')"
      ],
      "execution_count": 7,
      "outputs": [
        {
          "output_type": "execute_result",
          "data": {
            "text/plain": [
              "0      291926\n",
              "1      196038\n",
              "2      231808\n",
              "3       56199\n",
              "4       53270\n",
              "        ...  \n",
              "574    162625\n",
              "575     52609\n",
              "576     15603\n",
              "577     63713\n",
              "578    173593\n",
              "Length: 579, dtype: int64"
            ]
          },
          "metadata": {},
          "execution_count": 7
        }
      ]
    },
    {
      "cell_type": "code",
      "metadata": {
        "id": "Fm-jGUi3t9_d",
        "colab": {
          "base_uri": "https://localhost:8080/"
        },
        "outputId": "7b7570b0-ad06-4412-b426-5e0e7371730c"
      },
      "source": [
        "# How many failed banks are there in the dataframe?\n",
        "bank_detail['CERT'].count()"
      ],
      "execution_count": 8,
      "outputs": [
        {
          "output_type": "execute_result",
          "data": {
            "text/plain": [
              "579"
            ]
          },
          "metadata": {},
          "execution_count": 8
        }
      ]
    },
    {
      "cell_type": "code",
      "metadata": {
        "id": "9ssUrRzgvIBv",
        "colab": {
          "base_uri": "https://localhost:8080/"
        },
        "outputId": "a7fd8788-aaa6-4ad8-8059-72b5de7e92a3"
      },
      "source": [
        "# What was the average ESTIMATED LOSS for failed banks?\n",
        "bank_detail['ESTIMATED LOSS'].mean()"
      ],
      "execution_count": 9,
      "outputs": [
        {
          "output_type": "execute_result",
          "data": {
            "text/plain": [
              "130299.83836589698"
            ]
          },
          "metadata": {},
          "execution_count": 9
        }
      ]
    },
    {
      "cell_type": "code",
      "metadata": {
        "id": "hy4s8jI3xLay",
        "colab": {
          "base_uri": "https://localhost:8080/"
        },
        "outputId": "d5228275-8c8b-4258-c07f-644ae300aea6"
      },
      "source": [
        "# What was the highest ESTIMATED LOSS for failed banks?\n",
        "bank_detail['ESTIMATED LOSS'].max()"
      ],
      "execution_count": 10,
      "outputs": [
        {
          "output_type": "execute_result",
          "data": {
            "text/plain": [
              "12072214.0"
            ]
          },
          "metadata": {},
          "execution_count": 10
        }
      ]
    },
    {
      "cell_type": "code",
      "metadata": {
        "id": "k1F0PxMSxLzd",
        "colab": {
          "base_uri": "https://localhost:8080/"
        },
        "outputId": "eb7348d7-c067-4b55-a051-395bcc4e28ab"
      },
      "source": [
        "# What was the lowest ESTIMATED LOSS?\n",
        "bank_detail['ESTIMATED LOSS'].min()"
      ],
      "execution_count": 11,
      "outputs": [
        {
          "output_type": "execute_result",
          "data": {
            "text/plain": [
              "0.0"
            ]
          },
          "metadata": {},
          "execution_count": 11
        }
      ]
    },
    {
      "cell_type": "markdown",
      "metadata": {
        "id": "sHZHREM1vsjE"
      },
      "source": [
        "<br><br>\n",
        "**QUICK CHALLENGE #1:**\n",
        "\n",
        "**Task: Calculate the average book rating in the `bx_ratings` dataframe**\n"
      ]
    },
    {
      "cell_type": "markdown",
      "metadata": {
        "id": "Z6W-p0V3zbKY"
      },
      "source": [
        "<br><br>\n",
        "**QUICK CHALLENGE #2:**\n",
        "\n",
        "There are many other different calculations that can be performed using the approach above.\n",
        "\n",
        "<br>\n",
        "\n",
        "**Task: Test one or more of the following functions on the `rating` column in the `bx_ratings` dataframe:**\n",
        "\n",
        "*   median() - Finds the middle values\n",
        "*   mode() - Finds the most repeated value\n",
        "*   std() - Calculates the standard deviation\n",
        "*   var() - Calculates the variance"
      ]
    },
    {
      "cell_type": "code",
      "metadata": {
        "colab": {
          "base_uri": "https://localhost:8080/",
          "height": 204
        },
        "id": "cmUiZ_9iJolZ",
        "outputId": "12d22230-2fab-4d87-ed97-07ab93de39c7"
      },
      "source": [
        "# Your code for quick challenge #1 here:\n",
        "bx_ratings.head()\n"
      ],
      "execution_count": 13,
      "outputs": [
        {
          "output_type": "execute_result",
          "data": {
            "text/html": [
              "<div>\n",
              "<style scoped>\n",
              "    .dataframe tbody tr th:only-of-type {\n",
              "        vertical-align: middle;\n",
              "    }\n",
              "\n",
              "    .dataframe tbody tr th {\n",
              "        vertical-align: top;\n",
              "    }\n",
              "\n",
              "    .dataframe thead th {\n",
              "        text-align: right;\n",
              "    }\n",
              "</style>\n",
              "<table border=\"1\" class=\"dataframe\">\n",
              "  <thead>\n",
              "    <tr style=\"text-align: right;\">\n",
              "      <th></th>\n",
              "      <th>user_id</th>\n",
              "      <th>isbn</th>\n",
              "      <th>rating</th>\n",
              "    </tr>\n",
              "  </thead>\n",
              "  <tbody>\n",
              "    <tr>\n",
              "      <th>0</th>\n",
              "      <td>276725</td>\n",
              "      <td>034545104X</td>\n",
              "      <td>0</td>\n",
              "    </tr>\n",
              "    <tr>\n",
              "      <th>1</th>\n",
              "      <td>276726</td>\n",
              "      <td>0155061224</td>\n",
              "      <td>5</td>\n",
              "    </tr>\n",
              "    <tr>\n",
              "      <th>2</th>\n",
              "      <td>276727</td>\n",
              "      <td>0446520802</td>\n",
              "      <td>0</td>\n",
              "    </tr>\n",
              "    <tr>\n",
              "      <th>3</th>\n",
              "      <td>276729</td>\n",
              "      <td>052165615X</td>\n",
              "      <td>3</td>\n",
              "    </tr>\n",
              "    <tr>\n",
              "      <th>4</th>\n",
              "      <td>276729</td>\n",
              "      <td>0521795028</td>\n",
              "      <td>6</td>\n",
              "    </tr>\n",
              "  </tbody>\n",
              "</table>\n",
              "</div>"
            ],
            "text/plain": [
              "   user_id        isbn  rating\n",
              "0   276725  034545104X       0\n",
              "1   276726  0155061224       5\n",
              "2   276727  0446520802       0\n",
              "3   276729  052165615X       3\n",
              "4   276729  0521795028       6"
            ]
          },
          "metadata": {},
          "execution_count": 13
        }
      ]
    },
    {
      "cell_type": "code",
      "metadata": {
        "id": "n6Gw9dHEv5zq",
        "colab": {
          "base_uri": "https://localhost:8080/"
        },
        "outputId": "d874d3c3-5f94-4f52-bf6b-c52e7fc7f43b"
      },
      "source": [
        "# Your code for quick challenge #1 here:\n",
        "\n",
        "bx_ratings['rating'].median()"
      ],
      "execution_count": 16,
      "outputs": [
        {
          "output_type": "execute_result",
          "data": {
            "text/plain": [
              "0.0"
            ]
          },
          "metadata": {},
          "execution_count": 16
        }
      ]
    },
    {
      "cell_type": "code",
      "metadata": {
        "id": "Icf4_bZh0mZj",
        "colab": {
          "base_uri": "https://localhost:8080/"
        },
        "outputId": "bb333499-0cad-4923-fe82-6c49245481c7"
      },
      "source": [
        "# Your code for quick challenge #2 here:\n",
        "bx_ratings['rating'].var()"
      ],
      "execution_count": 17,
      "outputs": [
        {
          "output_type": "execute_result",
          "data": {
            "text/plain": [
              "14.854733220364443"
            ]
          },
          "metadata": {},
          "execution_count": 17
        }
      ]
    }
  ]
}